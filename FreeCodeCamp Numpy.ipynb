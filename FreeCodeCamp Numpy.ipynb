{
 "cells": [
  {
   "cell_type": "code",
   "execution_count": 8,
   "id": "ae87c6ce",
   "metadata": {},
   "outputs": [],
   "source": [
    "import numpy as np\n"
   ]
  },
  {
   "cell_type": "code",
   "execution_count": 19,
   "id": "4567d423",
   "metadata": {},
   "outputs": [],
   "source": [
    "def calculate(array):\n",
    "  if len(array) != 9:\n",
    "    raise ValueError(\"List must contain nine numbers.\")\n",
    "\n",
    "  a = np.array(array).reshape(3, 3)\n",
    "  print(a)\n",
    "  cal = dict()\n",
    "  cal[\"mean\"] = (a.mean(axis=0).tolist(), a.mean(axis=1).tolist(), a.mean())\n",
    "  cal[\"variance\"] = (a.var(axis=0).tolist(), a.var(axis=1).tolist(), a.var())\n",
    "  cal[\"standard deviation\"] = (a.std(axis=0).tolist(), a.std(axis=1).tolist(), a.std())\n",
    "  cal[\"max\"] = (a.max(axis=0).tolist(), a.max(axis=1).tolist(), a.max())\n",
    "  cal[\"min\"] = (a.min(axis=0).tolist(), a.min(axis=1).tolist(), a.min())\n",
    "  cal[\"sum\"] = (a.sum(axis=0).tolist(), a.sum(axis=1).tolist(), a.sum())\n",
    "\n",
    "  return cal\n"
   ]
  },
  {
   "cell_type": "code",
   "execution_count": 20,
   "id": "8cc81fd9",
   "metadata": {},
   "outputs": [
    {
     "name": "stdout",
     "output_type": "stream",
     "text": [
      "[[0 1 2]\n",
      " [3 4 5]\n",
      " [6 7 8]]\n"
     ]
    },
    {
     "data": {
      "text/plain": [
       "{'mean': ([3.0, 4.0, 5.0], [1.0, 4.0, 7.0], 4.0),\n",
       " 'variance': ([6.0, 6.0, 6.0],\n",
       "  [0.6666666666666666, 0.6666666666666666, 0.6666666666666666],\n",
       "  6.666666666666667),\n",
       " 'standard deviation': ([2.449489742783178,\n",
       "   2.449489742783178,\n",
       "   2.449489742783178],\n",
       "  [0.816496580927726, 0.816496580927726, 0.816496580927726],\n",
       "  2.581988897471611),\n",
       " 'max': ([6, 7, 8], [2, 5, 8], 8),\n",
       " 'min': ([0, 1, 2], [0, 3, 6], 0),\n",
       " 'sum': ([9, 12, 15], [3, 12, 21], 36)}"
      ]
     },
     "execution_count": 20,
     "metadata": {},
     "output_type": "execute_result"
    }
   ],
   "source": [
    "calculate(([0,1,2,3,4,5,6,7,8]))"
   ]
  },
  {
   "cell_type": "code",
   "execution_count": null,
   "id": "d1b50038",
   "metadata": {},
   "outputs": [],
   "source": []
  }
 ],
 "metadata": {
  "kernelspec": {
   "display_name": "Python 3 (ipykernel)",
   "language": "python",
   "name": "python3"
  },
  "language_info": {
   "codemirror_mode": {
    "name": "ipython",
    "version": 3
   },
   "file_extension": ".py",
   "mimetype": "text/x-python",
   "name": "python",
   "nbconvert_exporter": "python",
   "pygments_lexer": "ipython3",
   "version": "3.11.3"
  }
 },
 "nbformat": 4,
 "nbformat_minor": 5
}
